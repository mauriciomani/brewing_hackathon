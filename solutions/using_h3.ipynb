{
 "cells": [
  {
   "cell_type": "markdown",
   "metadata": {},
   "source": [
    "### H3 is a Uber library for indexing Hexagonal Hierarchal spaces\n",
    "We will ilustrate how to use it and try to cluster data using h3. Might not be usefull for the hackathon goal or for these dataset, since grid system are use for analyzing large datasets.<br>\n",
    "**Maps will not display on github using folium**, please clone, uncomment necessary lines and run locally.<br>\n",
    "H3 supports sixteen resolutions. Each finer resolution has cells with one seventh the area of the coarser resolution. 0 being coarsest and 15 being finest.<br>\n",
    "Instead of KMeans you can try using H3 or a combination."
   ]
  },
  {
   "cell_type": "code",
   "execution_count": 16,
   "metadata": {},
   "outputs": [],
   "source": [
    "import h3\n",
    "import pandas as pd\n",
    "from folium import Map, Marker, GeoJson\n",
    "from geojson.feature import *\n",
    "import branca.colormap as cm\n",
    "import json"
   ]
  },
  {
   "cell_type": "code",
   "execution_count": 2,
   "metadata": {},
   "outputs": [],
   "source": [
    "path = \"../ubicaciones.csv\""
   ]
  },
  {
   "cell_type": "code",
   "execution_count": 3,
   "metadata": {},
   "outputs": [],
   "source": [
    "df = pd.read_csv(path)"
   ]
  },
  {
   "cell_type": "code",
   "execution_count": 4,
   "metadata": {},
   "outputs": [
    {
     "data": {
      "text/html": [
       "<div>\n",
       "<style scoped>\n",
       "    .dataframe tbody tr th:only-of-type {\n",
       "        vertical-align: middle;\n",
       "    }\n",
       "\n",
       "    .dataframe tbody tr th {\n",
       "        vertical-align: top;\n",
       "    }\n",
       "\n",
       "    .dataframe thead th {\n",
       "        text-align: right;\n",
       "    }\n",
       "</style>\n",
       "<table border=\"1\" class=\"dataframe\">\n",
       "  <thead>\n",
       "    <tr style=\"text-align: right;\">\n",
       "      <th></th>\n",
       "      <th>Id_Cliente</th>\n",
       "      <th>id_Agencia</th>\n",
       "      <th>Frecuencia</th>\n",
       "      <th>Vol_Entrega</th>\n",
       "      <th>lat</th>\n",
       "      <th>lon</th>\n",
       "    </tr>\n",
       "  </thead>\n",
       "  <tbody>\n",
       "    <tr>\n",
       "      <th>0</th>\n",
       "      <td>1</td>\n",
       "      <td>A1</td>\n",
       "      <td>1</td>\n",
       "      <td>2.0</td>\n",
       "      <td>20.506052</td>\n",
       "      <td>-98.212377</td>\n",
       "    </tr>\n",
       "    <tr>\n",
       "      <th>1</th>\n",
       "      <td>2</td>\n",
       "      <td>A1</td>\n",
       "      <td>1</td>\n",
       "      <td>17.0</td>\n",
       "      <td>20.458128</td>\n",
       "      <td>-98.221248</td>\n",
       "    </tr>\n",
       "    <tr>\n",
       "      <th>2</th>\n",
       "      <td>3</td>\n",
       "      <td>A1</td>\n",
       "      <td>1</td>\n",
       "      <td>2.0</td>\n",
       "      <td>20.530427</td>\n",
       "      <td>-98.236860</td>\n",
       "    </tr>\n",
       "    <tr>\n",
       "      <th>3</th>\n",
       "      <td>4</td>\n",
       "      <td>A1</td>\n",
       "      <td>3</td>\n",
       "      <td>15.0</td>\n",
       "      <td>20.488655</td>\n",
       "      <td>-98.202940</td>\n",
       "    </tr>\n",
       "    <tr>\n",
       "      <th>4</th>\n",
       "      <td>5</td>\n",
       "      <td>A1</td>\n",
       "      <td>1</td>\n",
       "      <td>2.0</td>\n",
       "      <td>20.533253</td>\n",
       "      <td>-98.219669</td>\n",
       "    </tr>\n",
       "  </tbody>\n",
       "</table>\n",
       "</div>"
      ],
      "text/plain": [
       "   Id_Cliente id_Agencia  Frecuencia  Vol_Entrega        lat        lon\n",
       "0           1         A1           1          2.0  20.506052 -98.212377\n",
       "1           2         A1           1         17.0  20.458128 -98.221248\n",
       "2           3         A1           1          2.0  20.530427 -98.236860\n",
       "3           4         A1           3         15.0  20.488655 -98.202940\n",
       "4           5         A1           1          2.0  20.533253 -98.219669"
      ]
     },
     "execution_count": 4,
     "metadata": {},
     "output_type": "execute_result"
    }
   ],
   "source": [
    "df.head()"
   ]
  },
  {
   "cell_type": "code",
   "execution_count": 5,
   "metadata": {},
   "outputs": [],
   "source": [
    "lat_lon = df[[\"lat\", \"lon\"]].values"
   ]
  },
  {
   "cell_type": "code",
   "execution_count": 16,
   "metadata": {},
   "outputs": [],
   "source": [
    "#smaller zoom start further away\n",
    "map = Map(location=[20.506052, -98.212377], zoom_start=10, titles =\"All points\")\n",
    "for point in range(0, len(lat_lon)):\n",
    "    Marker(lat_lon[point], popup=df['Id_Cliente'][point]).add_to(map)\n",
    "    \n",
    "#map"
   ]
  },
  {
   "cell_type": "code",
   "execution_count": 6,
   "metadata": {},
   "outputs": [
    {
     "data": {
      "text/plain": [
       "'874991c98ffffff'"
      ]
     },
     "execution_count": 6,
     "metadata": {},
     "output_type": "execute_result"
    }
   ],
   "source": [
    "#getting index ofparticular lat-lon\n",
    "h3.geo_to_h3(20.506052, -98.212377, 7)"
   ]
  },
  {
   "cell_type": "code",
   "execution_count": 7,
   "metadata": {},
   "outputs": [],
   "source": [
    "#0 to 15, where the former is bigger space\n",
    "df[\"hex\"] = df.apply(lambda row: h3.geo_to_h3(row[\"lat\"], row[\"lon\"], 6), axis = 1)"
   ]
  },
  {
   "cell_type": "code",
   "execution_count": 8,
   "metadata": {},
   "outputs": [],
   "source": [
    "aggregated_df = df.groupby(by = \"hex\").size().reset_index()\n",
    "aggregated_df.columns = [\"hex\", \"stores\"]"
   ]
  },
  {
   "cell_type": "code",
   "execution_count": 9,
   "metadata": {},
   "outputs": [],
   "source": [
    "aggregated_df[\"geometry\"] =  aggregated_df.hex.apply(lambda x: {\"type\" : \"Polygon\",\n",
    "                                                           \"coordinates\": [h3.h3_to_geo_boundary(h=x, geo_json=True)]})"
   ]
  },
  {
   "cell_type": "code",
   "execution_count": 10,
   "metadata": {},
   "outputs": [
    {
     "data": {
      "text/html": [
       "<div>\n",
       "<style scoped>\n",
       "    .dataframe tbody tr th:only-of-type {\n",
       "        vertical-align: middle;\n",
       "    }\n",
       "\n",
       "    .dataframe tbody tr th {\n",
       "        vertical-align: top;\n",
       "    }\n",
       "\n",
       "    .dataframe thead th {\n",
       "        text-align: right;\n",
       "    }\n",
       "</style>\n",
       "<table border=\"1\" class=\"dataframe\">\n",
       "  <thead>\n",
       "    <tr style=\"text-align: right;\">\n",
       "      <th></th>\n",
       "      <th>hex</th>\n",
       "      <th>stores</th>\n",
       "      <th>geometry</th>\n",
       "    </tr>\n",
       "  </thead>\n",
       "  <tbody>\n",
       "    <tr>\n",
       "      <th>0</th>\n",
       "      <td>864990247ffffff</td>\n",
       "      <td>14</td>\n",
       "      <td>{'type': 'Polygon', 'coordinates': [((-98.0829...</td>\n",
       "    </tr>\n",
       "    <tr>\n",
       "      <th>1</th>\n",
       "      <td>86499024fffffff</td>\n",
       "      <td>446</td>\n",
       "      <td>{'type': 'Polygon', 'coordinates': [((-98.1193...</td>\n",
       "    </tr>\n",
       "    <tr>\n",
       "      <th>2</th>\n",
       "      <td>864990267ffffff</td>\n",
       "      <td>60</td>\n",
       "      <td>{'type': 'Polygon', 'coordinates': [((-98.1126...</td>\n",
       "    </tr>\n",
       "    <tr>\n",
       "      <th>3</th>\n",
       "      <td>86499026fffffff</td>\n",
       "      <td>757</td>\n",
       "      <td>{'type': 'Polygon', 'coordinates': [((-98.1490...</td>\n",
       "    </tr>\n",
       "    <tr>\n",
       "      <th>4</th>\n",
       "      <td>864991507ffffff</td>\n",
       "      <td>6</td>\n",
       "      <td>{'type': 'Polygon', 'coordinates': [((-98.2218...</td>\n",
       "    </tr>\n",
       "    <tr>\n",
       "      <th>5</th>\n",
       "      <td>864991517ffffff</td>\n",
       "      <td>2</td>\n",
       "      <td>{'type': 'Polygon', 'coordinates': [((-98.1557...</td>\n",
       "    </tr>\n",
       "    <tr>\n",
       "      <th>6</th>\n",
       "      <td>864991527ffffff</td>\n",
       "      <td>126</td>\n",
       "      <td>{'type': 'Polygon', 'coordinates': [((-98.2515...</td>\n",
       "    </tr>\n",
       "    <tr>\n",
       "      <th>7</th>\n",
       "      <td>86499152fffffff</td>\n",
       "      <td>1</td>\n",
       "      <td>{'type': 'Polygon', 'coordinates': [((-98.2880...</td>\n",
       "    </tr>\n",
       "    <tr>\n",
       "      <th>8</th>\n",
       "      <td>864991537ffffff</td>\n",
       "      <td>515</td>\n",
       "      <td>{'type': 'Polygon', 'coordinates': [((-98.1854...</td>\n",
       "    </tr>\n",
       "    <tr>\n",
       "      <th>9</th>\n",
       "      <td>864991c87ffffff</td>\n",
       "      <td>243</td>\n",
       "      <td>{'type': 'Polygon', 'coordinates': [((-98.2447...</td>\n",
       "    </tr>\n",
       "    <tr>\n",
       "      <th>10</th>\n",
       "      <td>864991c8fffffff</td>\n",
       "      <td>260</td>\n",
       "      <td>{'type': 'Polygon', 'coordinates': [((-98.2811...</td>\n",
       "    </tr>\n",
       "    <tr>\n",
       "      <th>11</th>\n",
       "      <td>864991c97ffffff</td>\n",
       "      <td>411</td>\n",
       "      <td>{'type': 'Polygon', 'coordinates': [((-98.1786...</td>\n",
       "    </tr>\n",
       "    <tr>\n",
       "      <th>12</th>\n",
       "      <td>864991c9fffffff</td>\n",
       "      <td>762</td>\n",
       "      <td>{'type': 'Polygon', 'coordinates': [((-98.2150...</td>\n",
       "    </tr>\n",
       "    <tr>\n",
       "      <th>13</th>\n",
       "      <td>864991cafffffff</td>\n",
       "      <td>22</td>\n",
       "      <td>{'type': 'Polygon', 'coordinates': [((-98.3108...</td>\n",
       "    </tr>\n",
       "  </tbody>\n",
       "</table>\n",
       "</div>"
      ],
      "text/plain": [
       "                hex  stores                                           geometry\n",
       "0   864990247ffffff      14  {'type': 'Polygon', 'coordinates': [((-98.0829...\n",
       "1   86499024fffffff     446  {'type': 'Polygon', 'coordinates': [((-98.1193...\n",
       "2   864990267ffffff      60  {'type': 'Polygon', 'coordinates': [((-98.1126...\n",
       "3   86499026fffffff     757  {'type': 'Polygon', 'coordinates': [((-98.1490...\n",
       "4   864991507ffffff       6  {'type': 'Polygon', 'coordinates': [((-98.2218...\n",
       "5   864991517ffffff       2  {'type': 'Polygon', 'coordinates': [((-98.1557...\n",
       "6   864991527ffffff     126  {'type': 'Polygon', 'coordinates': [((-98.2515...\n",
       "7   86499152fffffff       1  {'type': 'Polygon', 'coordinates': [((-98.2880...\n",
       "8   864991537ffffff     515  {'type': 'Polygon', 'coordinates': [((-98.1854...\n",
       "9   864991c87ffffff     243  {'type': 'Polygon', 'coordinates': [((-98.2447...\n",
       "10  864991c8fffffff     260  {'type': 'Polygon', 'coordinates': [((-98.2811...\n",
       "11  864991c97ffffff     411  {'type': 'Polygon', 'coordinates': [((-98.1786...\n",
       "12  864991c9fffffff     762  {'type': 'Polygon', 'coordinates': [((-98.2150...\n",
       "13  864991cafffffff      22  {'type': 'Polygon', 'coordinates': [((-98.3108..."
      ]
     },
     "execution_count": 10,
     "metadata": {},
     "output_type": "execute_result"
    }
   ],
   "source": [
    "aggregated_df"
   ]
  },
  {
   "cell_type": "code",
   "execution_count": 15,
   "metadata": {},
   "outputs": [
    {
     "data": {
      "text/plain": [
       "<folium.features.GeoJson at 0x7f17dba62e80>"
      ]
     },
     "execution_count": 15,
     "metadata": {},
     "output_type": "execute_result"
    }
   ],
   "source": [
    "min_value = aggregated_df.stores.min()\n",
    "max_value = aggregated_df.stores.max()\n",
    "initial_map = Map(location= [20.506052, -98.212377], zoom_start=11, titles=\"choropleth\")\n",
    "custom_cm = cm.LinearColormap(['green','yellow','red'], vmin=min_value, vmax=max_value)\n",
    "\n",
    "list_features = []\n",
    "for i, row in aggregated_df.iterrows():\n",
    "    feature = Feature(geometry = row[\"geometry\"] , id=row[\"hex\"], properties = {\"value\" : row[\"stores\"]})\n",
    "    list_features.append(feature)\n",
    "        \n",
    "feat_collection = FeatureCollection(list_features)    \n",
    "geojson_data = json.dumps(feat_collection)\n",
    "\n",
    "GeoJson(geojson_data, style_function=lambda feature: {\n",
    "            'fillColor': custom_cm(feature['properties']['value']),\n",
    "            'color': 'black',\n",
    "            'weight': 1,\n",
    "            'fillOpacity': 0.7}, \n",
    "        name = \"Choropleth_6\").add_to(initial_map)"
   ]
  },
  {
   "cell_type": "code",
   "execution_count": 19,
   "metadata": {},
   "outputs": [],
   "source": [
    "#display(initial_map)"
   ]
  }
 ],
 "metadata": {
  "kernelspec": {
   "display_name": "Python 3",
   "language": "python",
   "name": "python3"
  },
  "language_info": {
   "codemirror_mode": {
    "name": "ipython",
    "version": 3
   },
   "file_extension": ".py",
   "mimetype": "text/x-python",
   "name": "python",
   "nbconvert_exporter": "python",
   "pygments_lexer": "ipython3",
   "version": "3.8.3"
  }
 },
 "nbformat": 4,
 "nbformat_minor": 4
}
